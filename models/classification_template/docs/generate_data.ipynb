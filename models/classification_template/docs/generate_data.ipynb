{
 "cells": [
  {
   "cell_type": "markdown",
   "id": "b1c9de9d-6777-4a1d-bb7c-c2413d01bd7d",
   "metadata": {},
   "source": [
    "# Generate Data\n",
    "\n",
    "This bundle uses simple synthetic data for training and testing. Using `create_test_image_3d` we'll create images of spheres with labels for each divided into 3 classes distinguished by intensity. The network will be able to train very quickly on this of course but it's for demonstration purposes and your specialised bundle will by modified for your data and its layout. \n",
    "\n",
    "Assuming this notebook is being run from the `docs` directory it will create two new directories in the root of the bundle, `train_data` and `test_data`.\n",
    "\n",
    "First imports:"
   ]
  },
  {
   "cell_type": "code",
   "execution_count": 7,
   "id": "1e7cb4a8-f91a-4f15-a8aa-3136c2b954d6",
   "metadata": {
    "tags": []
   },
   "outputs": [],
   "source": [
    "import os\n",
    "import json\n",
    "import random\n",
    "\n",
    "import matplotlib.pyplot as plt\n",
    "import nibabel as nib\n",
    "import numpy as np\n",
    "\n",
    "plt.rcParams[\"image.interpolation\"] = \"none\""
   ]
  },
  {
   "cell_type": "markdown",
   "id": "2b2c3de5-01e5-4578-832b-b24a75d095d5",
   "metadata": {},
   "source": [
    "As shown here, the images are spheres in a 3D volume with associated labels:"
   ]
  },
  {
   "cell_type": "code",
   "execution_count": 8,
   "metadata": {},
   "outputs": [],
   "source": [
    "def generate_images(image_size=128, border=20, shape_probabilities=None, shape_sizes=None):\n",
    "    image = np.zeros((image_size, image_size))\n",
    "\n",
    "    if shape_probabilities is None:\n",
    "        shape_probabilities = [0.25, 0.2, 0.3, 0.25]  # Default probabilities for circle, triangle, rectangle\n",
    "\n",
    "    if shape_sizes is None:\n",
    "        shape_sizes = [(10, 30), (20, 40), (20, 40)]  # Default size ranges for circle, triangle, rectangle\n",
    "\n",
    "    def draw_zero(image):\n",
    "        return image\n",
    "\n",
    "    def draw_circle(image):\n",
    "        center_x, center_y = np.random.randint(border, image_size - border), np.random.randint(border, image_size - border)\n",
    "        radius = np.random.randint(*shape_sizes[0])\n",
    "        y, x = np.ogrid[-center_x:image_size-center_x, -center_y:image_size-center_y]\n",
    "        mask = x ** 2 + y ** 2 <= radius ** 2\n",
    "        image[mask] = 1\n",
    "        return image\n",
    "\n",
    "    def draw_triangle(image):\n",
    "        size = np.random.randint(*shape_sizes[1])\n",
    "        x1, y1 = np.random.randint(border, image_size - border), np.random.randint(border, image_size - border)\n",
    "        x2, y2 = x1 + size, y1\n",
    "        x3, y3 = x1 + size // 2, y1 - int(size * np.sqrt(3) / 2)\n",
    "        triangle = np.array([[x1, x2, x3], [y1, y2, y3]])\n",
    "        mask = plt.matplotlib.path.Path(np.transpose(triangle)).contains_points(\n",
    "            np.array([(i, j) for i in range(image_size) for j in range(image_size)])\n",
    "        )\n",
    "        image[mask.reshape(image_size, image_size)] = 1\n",
    "        return image\n",
    "\n",
    "    def draw_rectangle(image):\n",
    "        x1, y1 = np.random.randint(border, image_size - border), np.random.randint(border, image_size - border)\n",
    "        x2, y2 = x1 + np.random.randint(*shape_sizes[2]), y1 + np.random.randint(*shape_sizes[2])\n",
    "        image[x1:x2, y1:y2] = 1\n",
    "        return image\n",
    "\n",
    "    label, shape = random.choices([(0, draw_zero), (1, draw_circle), (2, draw_triangle), (3, draw_rectangle)], weights=shape_probabilities)[0]\n",
    "    image = shape(image)\n",
    "\n",
    "    return image, label"
   ]
  },
  {
   "cell_type": "code",
   "execution_count": 9,
   "metadata": {},
   "outputs": [
    {
     "data": {
      "image/png": "[encoded data removed]",
      "text/plain": [
       "<Figure size 500x500 with 9 Axes>"
      ]
     },
     "metadata": {},
     "output_type": "display_data"
    }
   ],
   "source": [
    "fig, axes = plt.subplots(3, 3, figsize=(5, 5))\n",
    "for i, ax in enumerate(axes.flatten()):\n",
    "    for j in range(9):\n",
    "        images, label = generate_images(128)\n",
    "        ax.imshow(images, cmap='gray')\n",
    "        ax.axis('off')\n",
    "plt.tight_layout()\n",
    "plt.show()"
   ]
  },
  {
   "cell_type": "markdown",
   "id": "8e08c4a1-6630-4ab3-832b-e53face81e35",
   "metadata": {},
   "source": [
    "50 image/label pairs are now generated into the directory `../data/train_data`, assuming this notebook is run from the `docs` directory this will be in the bundle root:"
   ]
  },
  {
   "cell_type": "code",
   "execution_count": 10,
   "metadata": {},
   "outputs": [],
   "source": [
    "num_images = 50\n",
    "out_dir = os.path.abspath(\"../data/train_data\")\n",
    "os.makedirs(out_dir, exist_ok=True)\n",
    "\n",
    "train_data = []\n",
    "for i in range(num_images):\n",
    "    data = {}\n",
    "    img, lbl = generate_images(128)\n",
    "    n = nib.Nifti1Image(img, np.eye(4))\n",
    "    train_file_path = os.path.join(out_dir, f\"img{i:02}.nii.gz\")\n",
    "    nib.save(n, train_file_path)\n",
    "\n",
    "    data[\"image\"] = train_file_path\n",
    "    data[\"label\"] = lbl\n",
    "    train_data.append(data)\n",
    "\n",
    "with open(os.path.abspath(\"../data/train_samples.json\"), \"w\") as f:\n",
    "    json.dump(train_data, f, indent=2)"
   ]
  },
  {
   "cell_type": "markdown",
   "id": "7fe344f7-d01d-49d5-adca-a7071939ca53",
   "metadata": {},
   "source": [
    "We'll also generate some test data in a separate folder:"
   ]
  },
  {
   "cell_type": "code",
   "execution_count": 11,
   "id": "c3b8d8f3-8d73-4657-98f3-5605d4b1bad9",
   "metadata": {
    "tags": []
   },
   "outputs": [],
   "source": [
    "num_images = 10\n",
    "out_dir = os.path.abspath(\"../data/test_data\")\n",
    "os.makedirs(out_dir, exist_ok=True)\n",
    "\n",
    "train_data = []\n",
    "for i in range(num_images):\n",
    "    data = {}\n",
    "    img, lbl = generate_images(128)\n",
    "    n = nib.Nifti1Image(img, np.eye(4))\n",
    "    train_file_path = os.path.join(out_dir, f\"img{i:02}.nii.gz\")\n",
    "    nib.save(n, train_file_path)\n",
    "\n",
    "    data[\"image\"] = train_file_path\n",
    "    data[\"label\"] = lbl\n",
    "    train_data.append(data)\n",
    "\n",
    "with open(os.path.abspath(\"../data/test_samples.json\"), \"w\") as f:\n",
    "    json.dump(train_data, f, indent=2)"
   ]
  },
  {
   "cell_type": "code",
   "execution_count": 12,
   "id": "599cff25-4894-481b-aec3-6aedda327a09",
   "metadata": {
    "tags": []
   },
   "outputs": [
    {
     "name": "stdout",
     "output_type": "stream",
     "text": [
      "img00.nii.gz  img02.nii.gz  img04.nii.gz  img06.nii.gz\timg08.nii.gz\n",
      "img01.nii.gz  img03.nii.gz  img05.nii.gz  img07.nii.gz\timg09.nii.gz\n"
     ]
    }
   ],
   "source": [
    "!ls {out_dir}"
   ]
  }
 ],
 "metadata": {
  "kernelspec": {
   "display_name": "Python 3",
   "language": "python",
   "name": "python3"
  },
  "language_info": {
   "codemirror_mode": {
    "name": "ipython",
    "version": 3
   },
   "file_extension": ".py",
   "mimetype": "text/x-python",
   "name": "python",
   "nbconvert_exporter": "python",
   "pygments_lexer": "ipython3",
   "version": "3.10.12"
  }
 },
 "nbformat": 4,
 "nbformat_minor": 5
}
